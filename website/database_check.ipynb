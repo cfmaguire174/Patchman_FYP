{
 "cells": [
  {
   "cell_type": "code",
   "execution_count": 2,
   "metadata": {},
   "outputs": [],
   "source": [
    "import sqlalchemy as db\n",
    "import pandas as pd\n",
    "\n",
    "engine = db.create_engine('sqlite:///database.db')\n",
    "connection = engine.connect()\n",
    "metadata = db.MetaData()\n",
    "\n",
    "userTable = db.Table('user', metadata, autoload=True, autoload_with=engine)\n",
    "computerTable = db.Table('computer', metadata, autoload=True, autoload_with=engine)"
   ]
  },
  {
   "cell_type": "code",
   "execution_count": 3,
   "metadata": {},
   "outputs": [
    {
     "data": {
      "text/html": [
       "<div>\n",
       "<style scoped>\n",
       "    .dataframe tbody tr th:only-of-type {\n",
       "        vertical-align: middle;\n",
       "    }\n",
       "\n",
       "    .dataframe tbody tr th {\n",
       "        vertical-align: top;\n",
       "    }\n",
       "\n",
       "    .dataframe thead th {\n",
       "        text-align: right;\n",
       "    }\n",
       "</style>\n",
       "<table border=\"1\" class=\"dataframe\">\n",
       "  <thead>\n",
       "    <tr style=\"text-align: right;\">\n",
       "      <th></th>\n",
       "      <th>id</th>\n",
       "      <th>email</th>\n",
       "      <th>password</th>\n",
       "      <th>first_name</th>\n",
       "      <th>admin</th>\n",
       "    </tr>\n",
       "  </thead>\n",
       "  <tbody>\n",
       "    <tr>\n",
       "      <th>0</th>\n",
       "      <td>1</td>\n",
       "      <td>d18124735@mytudublin.ie</td>\n",
       "      <td>sha256$8N6pz6B9YJHLiBnQ$8d147a3c1cdc78c06a7c79...</td>\n",
       "      <td>Conor</td>\n",
       "      <td>None</td>\n",
       "    </tr>\n",
       "    <tr>\n",
       "      <th>1</th>\n",
       "      <td>2</td>\n",
       "      <td>admin2@gmail.com</td>\n",
       "      <td>sha256$jb1G4GdQPB7uFNIg$d2c8f14a29eb67e50631fe...</td>\n",
       "      <td>admin</td>\n",
       "      <td>None</td>\n",
       "    </tr>\n",
       "    <tr>\n",
       "      <th>2</th>\n",
       "      <td>3</td>\n",
       "      <td>admin@gmail.com</td>\n",
       "      <td>sha256$aJWMLK4VXB6mNYfX$4605343bb2c62c0d7e67c4...</td>\n",
       "      <td>admin</td>\n",
       "      <td>None</td>\n",
       "    </tr>\n",
       "    <tr>\n",
       "      <th>3</th>\n",
       "      <td>4</td>\n",
       "      <td>admin@gmail.com3</td>\n",
       "      <td>sha256$vxI9y7l0MRYxwf9N$c8533c4e43a0217ae0622e...</td>\n",
       "      <td>admin</td>\n",
       "      <td>None</td>\n",
       "    </tr>\n",
       "    <tr>\n",
       "      <th>4</th>\n",
       "      <td>5</td>\n",
       "      <td>admin@gmail.com4</td>\n",
       "      <td>sha256$oYp04rks1vdVHBaI$f662141ddafee1e5c917ac...</td>\n",
       "      <td>admin</td>\n",
       "      <td>False</td>\n",
       "    </tr>\n",
       "    <tr>\n",
       "      <th>5</th>\n",
       "      <td>6</td>\n",
       "      <td>admin@gmail.com5</td>\n",
       "      <td>sha256$YKzl4uuxk0AW8IfQ$53c11db2b74f4addf7a0dd...</td>\n",
       "      <td>admin</td>\n",
       "      <td>False</td>\n",
       "    </tr>\n",
       "    <tr>\n",
       "      <th>6</th>\n",
       "      <td>7</td>\n",
       "      <td>admin@gmail.com6</td>\n",
       "      <td>sha256$ZPKM4ZulMIPloJ75$dcc2673c4e09bd968d6629...</td>\n",
       "      <td>admin</td>\n",
       "      <td>True</td>\n",
       "    </tr>\n",
       "  </tbody>\n",
       "</table>\n",
       "</div>"
      ],
      "text/plain": [
       "   id                    email  \\\n",
       "0   1  d18124735@mytudublin.ie   \n",
       "1   2         admin2@gmail.com   \n",
       "2   3          admin@gmail.com   \n",
       "3   4         admin@gmail.com3   \n",
       "4   5         admin@gmail.com4   \n",
       "5   6         admin@gmail.com5   \n",
       "6   7         admin@gmail.com6   \n",
       "\n",
       "                                            password first_name  admin  \n",
       "0  sha256$8N6pz6B9YJHLiBnQ$8d147a3c1cdc78c06a7c79...      Conor   None  \n",
       "1  sha256$jb1G4GdQPB7uFNIg$d2c8f14a29eb67e50631fe...      admin   None  \n",
       "2  sha256$aJWMLK4VXB6mNYfX$4605343bb2c62c0d7e67c4...      admin   None  \n",
       "3  sha256$vxI9y7l0MRYxwf9N$c8533c4e43a0217ae0622e...      admin   None  \n",
       "4  sha256$oYp04rks1vdVHBaI$f662141ddafee1e5c917ac...      admin  False  \n",
       "5  sha256$YKzl4uuxk0AW8IfQ$53c11db2b74f4addf7a0dd...      admin  False  \n",
       "6  sha256$ZPKM4ZulMIPloJ75$dcc2673c4e09bd968d6629...      admin   True  "
      ]
     },
     "execution_count": 3,
     "metadata": {},
     "output_type": "execute_result"
    }
   ],
   "source": [
    "query = db.select([userTable])\n",
    "results = connection.execute(query).fetchall()\n",
    "df = pd.DataFrame(results)\n",
    "df.columns = results[0].keys()\n",
    "df"
   ]
  },
  {
   "cell_type": "code",
   "execution_count": 4,
   "metadata": {
    "scrolled": true
   },
   "outputs": [
    {
     "data": {
      "text/html": [
       "<div>\n",
       "<style scoped>\n",
       "    .dataframe tbody tr th:only-of-type {\n",
       "        vertical-align: middle;\n",
       "    }\n",
       "\n",
       "    .dataframe tbody tr th {\n",
       "        vertical-align: top;\n",
       "    }\n",
       "\n",
       "    .dataframe thead th {\n",
       "        text-align: right;\n",
       "    }\n",
       "</style>\n",
       "<table border=\"1\" class=\"dataframe\">\n",
       "  <thead>\n",
       "    <tr style=\"text-align: right;\">\n",
       "      <th></th>\n",
       "      <th>id</th>\n",
       "      <th>data</th>\n",
       "      <th>computer_ip</th>\n",
       "      <th>date</th>\n",
       "      <th>user_id</th>\n",
       "    </tr>\n",
       "  </thead>\n",
       "  <tbody>\n",
       "    <tr>\n",
       "      <th>0</th>\n",
       "      <td>1</td>\n",
       "      <td>Computer 4</td>\n",
       "      <td>255.4.5.3</td>\n",
       "      <td>2022-03-25 16:47:10</td>\n",
       "      <td>1</td>\n",
       "    </tr>\n",
       "    <tr>\n",
       "      <th>1</th>\n",
       "      <td>2</td>\n",
       "      <td>Computer 5</td>\n",
       "      <td>255.4.5.7</td>\n",
       "      <td>2022-03-25 16:47:15</td>\n",
       "      <td>1</td>\n",
       "    </tr>\n",
       "    <tr>\n",
       "      <th>2</th>\n",
       "      <td>3</td>\n",
       "      <td>Computer 1</td>\n",
       "      <td>255.4.5.1</td>\n",
       "      <td>2022-03-25 17:03:23</td>\n",
       "      <td>2</td>\n",
       "    </tr>\n",
       "  </tbody>\n",
       "</table>\n",
       "</div>"
      ],
      "text/plain": [
       "   id        data computer_ip                date  user_id\n",
       "0   1  Computer 4   255.4.5.3 2022-03-25 16:47:10        1\n",
       "1   2  Computer 5   255.4.5.7 2022-03-25 16:47:15        1\n",
       "2   3  Computer 1   255.4.5.1 2022-03-25 17:03:23        2"
      ]
     },
     "execution_count": 4,
     "metadata": {},
     "output_type": "execute_result"
    }
   ],
   "source": [
    "query = db.select([computerTable])\n",
    "results = connection.execute(query).fetchall()\n",
    "df = pd.DataFrame(results)\n",
    "df.columns = results[0].keys()\n",
    "df"
   ]
  },
  {
   "cell_type": "code",
   "execution_count": 5,
   "metadata": {},
   "outputs": [
    {
     "ename": "AttributeError",
     "evalue": "'Table' object has no attribute 'query'",
     "output_type": "error",
     "traceback": [
      "\u001b[1;31m---------------------------------------------------------------------------\u001b[0m",
      "\u001b[1;31mAttributeError\u001b[0m                            Traceback (most recent call last)",
      "\u001b[1;32m<ipython-input-5-0643be05cf43>\u001b[0m in \u001b[0;36m<module>\u001b[1;34m\u001b[0m\n\u001b[1;32m----> 1\u001b[1;33m \u001b[0mcomputerTable\u001b[0m\u001b[1;33m.\u001b[0m\u001b[0mquery\u001b[0m\u001b[1;33m.\u001b[0m\u001b[0mall\u001b[0m\u001b[1;33m(\u001b[0m\u001b[1;33m)\u001b[0m\u001b[1;33m\u001b[0m\u001b[1;33m\u001b[0m\u001b[0m\n\u001b[0m",
      "\u001b[1;31mAttributeError\u001b[0m: 'Table' object has no attribute 'query'"
     ]
    }
   ],
   "source": [
    "computerTable.query.all()"
   ]
  },
  {
   "cell_type": "code",
   "execution_count": null,
   "metadata": {},
   "outputs": [],
   "source": []
  }
 ],
 "metadata": {
  "kernelspec": {
   "display_name": "Python 3",
   "language": "python",
   "name": "python3"
  },
  "language_info": {
   "codemirror_mode": {
    "name": "ipython",
    "version": 3
   },
   "file_extension": ".py",
   "mimetype": "text/x-python",
   "name": "python",
   "nbconvert_exporter": "python",
   "pygments_lexer": "ipython3",
   "version": "3.7.4"
  }
 },
 "nbformat": 4,
 "nbformat_minor": 4
}
